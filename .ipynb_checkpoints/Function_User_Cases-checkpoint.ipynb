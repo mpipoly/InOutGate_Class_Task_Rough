{
 "cells": [
  {
   "cell_type": "code",
   "execution_count": 2,
   "metadata": {},
   "outputs": [],
   "source": [
    "# This will be the only package I will need to use for this demonstration\n",
    "import numpy as np"
   ]
  },
  {
   "cell_type": "code",
   "execution_count": 3,
   "metadata": {},
   "outputs": [],
   "source": [
    "#The following is a breakdown of two functions used in my tassk script"
   ]
  },
  {
   "cell_type": "code",
   "execution_count": 17,
   "metadata": {},
   "outputs": [
    {
     "name": "stdout",
     "output_type": "stream",
     "text": [
      "<class 'int'>\n",
      "True\n",
      "1.1\n"
     ]
    }
   ],
   "source": [
    "# The purpose of this function is to take an integer number, in this case the number of trials\n",
    "# and create an out put of that input\n",
    "\n",
    "num_trials=4 # integer (could be of any size: 8, 2, 23 etc..)\n",
    "\n",
    "print(type(num_trials))\n",
    "print(isinstance(num_trials, int))\n",
    "\n",
    "def make_ITI(num_trials):\n",
    "    if isinstance(num_trials, int) == True:    \n",
    "        ITI=np.random.choice([1, 1.1, 1.2, 1.3, 1.4, 1.5, 1.6, 1.7, 1.8, 1.9, 2.0]) # numpy randomly grabs a value\n",
    "        # ITI refers to a \"jitter\" to prevent anticipatory effects\n",
    "        # The random value between 1-2 seconds is returned\n",
    "        return ITI\n",
    "    else:\n",
    "        print('Error: Input of Jitter is not integer')\n",
    "\n",
    "# Here we shall show a good output\n",
    "\n",
    "Good_Output = make_ITI(1) # here we assign good output to the variable \"Good_Output\"\n",
    "print(Good_Output)\n",
    "print(type(num_trials)) # As we can see this is because num_trials is an integer\n",
    "print(isinstance(num_trials, int)) # When we check we see it is True"
   ]
  },
  {
   "cell_type": "code",
   "execution_count": 19,
   "metadata": {},
   "outputs": [
    {
     "name": "stdout",
     "output_type": "stream",
     "text": [
      "Error: Input of Jitter is not integer\n",
      "<class 'str'>\n",
      "False\n"
     ]
    }
   ],
   "source": [
    "# Following the above cases, we will now show bad output\n",
    "num_trials = '4' # When it is a string\n",
    "\n",
    "bad_output = make_ITI(num_trials) # We try running it in the function\n",
    "\n",
    "print(type(num_trials)) # We see it is class string\n",
    "print(isinstance(num_trials, int)) # We see it does not pass our test of 'Integer?'\n",
    "bad_output # An we print to see our variable is the error"
   ]
  },
  {
   "cell_type": "code",
   "execution_count": 50,
   "metadata": {},
   "outputs": [
    {
     "data": {
      "text/plain": [
       "{'6': 5, '8': 7, '2': 5}"
      ]
     },
     "execution_count": 50,
     "metadata": {},
     "output_type": "execute_result"
    }
   ],
   "source": [
    "# This function is set up to take a list of elements of any type, and capture their frequency\n",
    "# For my taks I need an even distribution of cue type trials\n",
    "\n",
    "List_to_use = ['6','8','2','8','6','8','8','2','8','8','6','2','8','6','8''2','2','2','6'] # This is good output format\n",
    "\n",
    "def getDuplicatesWithCount(listOfElems):\n",
    "    ''' Get frequency count of duplicate elements in the given list '''\n",
    "    # The if statement below makes sure the fed in variable is list type\n",
    "    if isinstance(listOfElems, list) == True:\n",
    "        dictOfElems = dict() # Create empty dicionary for trial type frequency organization\n",
    "        # Iterate over each element in list\n",
    "        for elem in listOfElems:\n",
    "            # Interates through the list of elements, our case string types\n",
    "            if elem in dictOfElems:\n",
    "                # if the given string does exist, it increments the value by 1 (how it counts)\n",
    "                dictOfElems[elem] += 1\n",
    "            else:\n",
    "                # if the given string type does not exist, it inputs with a dictionary key value of 1\n",
    "                dictOfElems[elem] = 1\n",
    "        # Filter key-value pairs in dictionary. Keep pairs whose value is greater than 1 i.e. only duplicate elements from list.\n",
    "        dictOfElems = { key:value for key, value in dictOfElems.items() if value > 1}\n",
    "        # Returns a dict of duplicate elements and their frequency count\n",
    "        return dictOfElems\n",
    "    else:\n",
    "        # If the fed in variable is not list type, below error\n",
    "        print('Error: did not feed in a list')\n",
    "\n",
    "        \n",
    "# Each element is filtered and incrementally added into dictionary bins\n",
    "# These bins reveal the counts, so you can check if your trials are even uneven\n",
    "getDuplicatesWithCount(List_to_use)"
   ]
  },
  {
   "cell_type": "code",
   "execution_count": 51,
   "metadata": {},
   "outputs": [
    {
     "name": "stdout",
     "output_type": "stream",
     "text": [
      "Error: did not feed in a list\n"
     ]
    }
   ],
   "source": [
    "# Here is example of bad input\n",
    "Not_a_list = 4 # This is a single integer and not a list\n",
    "getDuplicatesWithCount(Not_a_list) # The function took this call and failed the if statement printing error message"
   ]
  }
 ],
 "metadata": {
  "kernelspec": {
   "display_name": "Python 3",
   "language": "python",
   "name": "python3"
  },
  "language_info": {
   "codemirror_mode": {
    "name": "ipython",
    "version": 3
   },
   "file_extension": ".py",
   "mimetype": "text/x-python",
   "name": "python",
   "nbconvert_exporter": "python",
   "pygments_lexer": "ipython3",
   "version": "3.7.4"
  }
 },
 "nbformat": 4,
 "nbformat_minor": 4
}
