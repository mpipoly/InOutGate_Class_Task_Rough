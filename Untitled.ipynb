{
 "cells": [
  {
   "cell_type": "code",
   "execution_count": 2,
   "metadata": {},
   "outputs": [],
   "source": [
    "import numpy as np\n"
   ]
  },
  {
   "cell_type": "code",
   "execution_count": 3,
   "metadata": {},
   "outputs": [],
   "source": [
    "#The following is a breakdown of two functions used in my tassk script"
   ]
  },
  {
   "cell_type": "code",
   "execution_count": 17,
   "metadata": {},
   "outputs": [
    {
     "name": "stdout",
     "output_type": "stream",
     "text": [
      "<class 'int'>\n",
      "True\n",
      "1.1\n"
     ]
    }
   ],
   "source": [
    "# The purpose of this function is to take an integer number, in this case the number of trials\n",
    "# and create an out put of that input\n",
    "\n",
    "num_trials=4 # integer (could be of any size: 8, 2, 23 etc..)\n",
    "\n",
    "print(type(num_trials))\n",
    "print(isinstance(num_trials, int))\n",
    "\n",
    "def make_ITI(num_trials):\n",
    "    if isinstance(num_trials, int) == True:    \n",
    "        ITI=np.random.choice([1, 1.1, 1.2, 1.3, 1.4, 1.5, 1.6, 1.7, 1.8, 1.9, 2.0]) # numpy randomly grabs a value\n",
    "        # ITI refers to a \"jitter\" to prevent anticipatory effects\n",
    "        # The random value between 1-2 seconds is returned\n",
    "        return ITI\n",
    "    else:\n",
    "        print('Error: Input of Jitter is not integer')\n",
    "\n",
    "# Here we shall show a good output\n",
    "\n",
    "Good_Output = make_ITI(1) # here we assign good output to the variable \"Good_Output\"\n",
    "print(Good_Output)\n",
    "print(type(num_trials)) # As we can see this is because num_trials is an integer\n",
    "print(isinstance(num_trials, int)) # When we check we see it is True"
   ]
  },
  {
   "cell_type": "code",
   "execution_count": 19,
   "metadata": {},
   "outputs": [
    {
     "name": "stdout",
     "output_type": "stream",
     "text": [
      "Error: Input of Jitter is not integer\n",
      "<class 'str'>\n",
      "False\n"
     ]
    }
   ],
   "source": [
    "# Following the above cases, we will now show bad output\n",
    "num_trials = '4' # When it is a string\n",
    "\n",
    "bad_output = make_ITI(num_trials) # We try running it in the function\n",
    "\n",
    "print(type(num_trials)) # We see it is class string\n",
    "print(isinstance(num_trials, int)) # We see it does not pass our test of 'Integer?'\n",
    "bad_output # An we print to see our variable is the error"
   ]
  },
  {
   "cell_type": "code",
   "execution_count": null,
   "metadata": {},
   "outputs": [],
   "source": [
    "# This function is set up to \n",
    "\n",
    "def getDuplicatesWithCount(listOfElems=''):\n",
    "    ''' Get frequency count of duplicate elements in the given list '''\n",
    "    dictOfElems = dict() # Create empty dicionary for trial type frequency organization\n",
    "    # Iterate over each element in list\n",
    "    for elem in listOfElems:\n",
    "        # Interates through the list of elements, our case string types\n",
    "        if elem in dictOfElems:\n",
    "            # if the given string does exist, it increments the value by 1 (how it counts)\n",
    "            dictOfElems[elem] += 1\n",
    "        else:\n",
    "            # if the given string type does not exist, it inputs with a dictionary key value of 1\n",
    "            dictOfElems[elem] = 1\n",
    "    # Filter key-value pairs in dictionary. Keep pairs whose value is greater than 1 i.e. only duplicate elements from list.\n",
    "    dictOfElems = { key:value for key, value in dictOfElems.items() if value > 1}\n",
    "    # Returns a dict of duplicate elements and their frequency count\n",
    "    return dictOfElems"
   ]
  }
 ],
 "metadata": {
  "kernelspec": {
   "display_name": "Python 3",
   "language": "python",
   "name": "python3"
  },
  "language_info": {
   "codemirror_mode": {
    "name": "ipython",
    "version": 3
   },
   "file_extension": ".py",
   "mimetype": "text/x-python",
   "name": "python",
   "nbconvert_exporter": "python",
   "pygments_lexer": "ipython3",
   "version": "3.7.4"
  }
 },
 "nbformat": 4,
 "nbformat_minor": 4
}
